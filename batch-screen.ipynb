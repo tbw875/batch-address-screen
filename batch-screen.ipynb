{
 "cells": [
  {
   "cell_type": "code",
   "execution_count": 1,
   "id": "0bdf09a4-a059-4fc7-8477-0bdb2a8005aa",
   "metadata": {},
   "outputs": [],
   "source": [
    "import pandas as pd\n",
    "import numpy as np\n",
    "import getpass\n",
    "import json\n",
    "import requests"
   ]
  },
  {
   "cell_type": "markdown",
   "id": "fb15ad90-24c8-42ba-89c1-30aea108d3d5",
   "metadata": {},
   "source": [
    "1. Set up address screen call with `requests`\n",
    "2. Parse out response of API response to csv columns\n",
    "3. Load csv with addresses in first column\n",
    "4. For each row in CSV, run Address Screening API\n",
    "5. export results to CSV"
   ]
  },
  {
   "cell_type": "markdown",
   "id": "c6f970fe-1c4a-4ea1-9720-65c48175ba27",
   "metadata": {},
   "source": [
    "`https://api.chainalysis.com/api/kyt/v1/users/{{userId}}/withdrawaladdresses`"
   ]
  },
  {
   "cell_type": "code",
   "execution_count": 2,
   "id": "322ddc66-60dd-446e-a1ff-b001884e97a4",
   "metadata": {},
   "outputs": [
    {
     "name": "stdin",
     "output_type": "stream",
     "text": [
      "Enter your API Key: ································································\n"
     ]
    }
   ],
   "source": [
    "##### ENTER YOUR API KEY\n",
    "api_key = getpass.getpass(\"Enter your API Key:\")"
   ]
  },
  {
   "cell_type": "code",
   "execution_count": 3,
   "id": "a70d3dc3-0be4-4f11-a13a-d6a1a518ac45",
   "metadata": {},
   "outputs": [
    {
     "name": "stdout",
     "output_type": "stream",
     "text": [
      "[{\"asset\":\"ETH\",\"address\":\"0x92193107FB10B3B372AB21cC90b5a4DBd67861d9\",\"cluster\":{\"name\":\"Contact Chainalysis 0x9219\",\"category\":\"stolen funds\"},\"rating\":\"lowRisk\",\"customAddress\":null,\"chainalysisIdentification\":null}]\n"
     ]
    }
   ],
   "source": [
    "import requests\n",
    "import json\n",
    "\n",
    "url = \"https://api.chainalysis.com/api/kyt/v1/users/User875/withdrawaladdresses\"\n",
    "\n",
    "payload = json.dumps([\n",
    "  {\n",
    "    \"asset\": \"ETH\",\n",
    "    \"address\": \"0x92193107FB10B3B372AB21cC90b5a4DBd67861d9\"\n",
    "  }\n",
    "])\n",
    "\n",
    "headers = {\n",
    "  'token': '06094f6ef2909569d7533ecd8706cad35703709de49713299d6e74edb937b878',\n",
    "  'Content-Type': 'application/json'\n",
    "}\n",
    "\n",
    "response = requests.request(\"POST\", url, headers=headers, data=payload)\n",
    "\n",
    "print(response.text)\n"
   ]
  },
  {
   "cell_type": "code",
   "execution_count": 4,
   "id": "54112074-710c-48fe-b559-6aa3ef9ece06",
   "metadata": {},
   "outputs": [
    {
     "data": {
      "text/html": [
       "<div>\n",
       "<style scoped>\n",
       "    .dataframe tbody tr th:only-of-type {\n",
       "        vertical-align: middle;\n",
       "    }\n",
       "\n",
       "    .dataframe tbody tr th {\n",
       "        vertical-align: top;\n",
       "    }\n",
       "\n",
       "    .dataframe thead th {\n",
       "        text-align: right;\n",
       "    }\n",
       "</style>\n",
       "<table border=\"1\" class=\"dataframe\">\n",
       "  <thead>\n",
       "    <tr style=\"text-align: right;\">\n",
       "      <th></th>\n",
       "      <th>asset</th>\n",
       "      <th>address</th>\n",
       "      <th>rating</th>\n",
       "      <th>customAddress</th>\n",
       "      <th>chainalysisIdentification</th>\n",
       "      <th>cluster.name</th>\n",
       "      <th>cluster.category</th>\n",
       "    </tr>\n",
       "  </thead>\n",
       "  <tbody>\n",
       "    <tr>\n",
       "      <th>0</th>\n",
       "      <td>ETH</td>\n",
       "      <td>0x92193107FB10B3B372AB21cC90b5a4DBd67861d9</td>\n",
       "      <td>lowRisk</td>\n",
       "      <td>None</td>\n",
       "      <td>None</td>\n",
       "      <td>Contact Chainalysis 0x9219</td>\n",
       "      <td>stolen funds</td>\n",
       "    </tr>\n",
       "  </tbody>\n",
       "</table>\n",
       "</div>"
      ],
      "text/plain": [
       "  asset                                     address   rating customAddress  \\\n",
       "0   ETH  0x92193107FB10B3B372AB21cC90b5a4DBd67861d9  lowRisk          None   \n",
       "\n",
       "  chainalysisIdentification                cluster.name cluster.category  \n",
       "0                      None  Contact Chainalysis 0x9219     stolen funds  "
      ]
     },
     "execution_count": 4,
     "metadata": {},
     "output_type": "execute_result"
    }
   ],
   "source": [
    "pd.json_normalize(json.loads(response.text))\n"
   ]
  },
  {
   "cell_type": "code",
   "execution_count": 77,
   "id": "2bcef246-64fa-4c6d-956c-32e1ffa3eea8",
   "metadata": {},
   "outputs": [],
   "source": [
    "input_csv = '~/Documents/Projects/batch-address-screen/sample_addresses.csv'\n",
    "df = pd.read_csv(input_csv)"
   ]
  },
  {
   "cell_type": "code",
   "execution_count": 78,
   "id": "c7a62356-6603-41ca-a0e4-c72768448bd6",
   "metadata": {},
   "outputs": [
    {
     "data": {
      "text/html": [
       "<div>\n",
       "<style scoped>\n",
       "    .dataframe tbody tr th:only-of-type {\n",
       "        vertical-align: middle;\n",
       "    }\n",
       "\n",
       "    .dataframe tbody tr th {\n",
       "        vertical-align: top;\n",
       "    }\n",
       "\n",
       "    .dataframe thead th {\n",
       "        text-align: right;\n",
       "    }\n",
       "</style>\n",
       "<table border=\"1\" class=\"dataframe\">\n",
       "  <thead>\n",
       "    <tr style=\"text-align: right;\">\n",
       "      <th></th>\n",
       "      <th>user_id</th>\n",
       "      <th>asset</th>\n",
       "      <th>address</th>\n",
       "    </tr>\n",
       "  </thead>\n",
       "  <tbody>\n",
       "    <tr>\n",
       "      <th>0</th>\n",
       "      <td>1</td>\n",
       "      <td>eth</td>\n",
       "      <td>0x6acdfba02d390b97ac2b2d42a63e85293bcc160e</td>\n",
       "    </tr>\n",
       "    <tr>\n",
       "      <th>1</th>\n",
       "      <td>2</td>\n",
       "      <td>eth</td>\n",
       "      <td>0x7F19720A857F834887FC9A7bC0a0fBe7Fc7f8102</td>\n",
       "    </tr>\n",
       "    <tr>\n",
       "      <th>2</th>\n",
       "      <td>3</td>\n",
       "      <td>eth</td>\n",
       "      <td>0x92193107FB10B3B372AB21cC90b5a4DBd67861d9</td>\n",
       "    </tr>\n",
       "    <tr>\n",
       "      <th>3</th>\n",
       "      <td>4</td>\n",
       "      <td>eth</td>\n",
       "      <td>0xe1e8C9fa8F0cB41CcF9b92061b696EC247Fcc449</td>\n",
       "    </tr>\n",
       "    <tr>\n",
       "      <th>4</th>\n",
       "      <td>5</td>\n",
       "      <td>eth</td>\n",
       "      <td>0xC5Ca16CD564eA101bBF2Dba1346499289F142B07</td>\n",
       "    </tr>\n",
       "  </tbody>\n",
       "</table>\n",
       "</div>"
      ],
      "text/plain": [
       "   user_id asset                                     address\n",
       "0        1   eth  0x6acdfba02d390b97ac2b2d42a63e85293bcc160e\n",
       "1        2   eth  0x7F19720A857F834887FC9A7bC0a0fBe7Fc7f8102\n",
       "2        3   eth  0x92193107FB10B3B372AB21cC90b5a4DBd67861d9\n",
       "3        4   eth  0xe1e8C9fa8F0cB41CcF9b92061b696EC247Fcc449\n",
       "4        5   eth  0xC5Ca16CD564eA101bBF2Dba1346499289F142B07"
      ]
     },
     "execution_count": 78,
     "metadata": {},
     "output_type": "execute_result"
    }
   ],
   "source": [
    "df.head()"
   ]
  },
  {
   "cell_type": "markdown",
   "id": "0dce2f12-3add-40d7-8687-69489fc47bcd",
   "metadata": {},
   "source": [
    "### Iterate"
   ]
  },
  {
   "cell_type": "code",
   "execution_count": 79,
   "id": "3821894e-6af9-4cf7-956c-140c8880d3c1",
   "metadata": {},
   "outputs": [],
   "source": [
    "data = []\n",
    "\n",
    "for index, row in df.iterrows():\n",
    "    user = row['user_id']\n",
    "    asset = row['asset']\n",
    "    address = row['address']\n",
    "    \n",
    "    # Load parsed inputs into a json object to be used in the payload of the API request\n",
    "    newPayload = json.dumps([\n",
    "        {\"asset\": asset,\n",
    "        \"address\": address}])\n",
    "    \n",
    "    response = requests.request(\"POST\", url, headers=headers, data=newPayload)\n",
    "    data.append(json.loads(response.text).pop())\n",
    "    \n",
    "df_out = pd.DataFrame(pd.json_normalize(data))\n",
    "df.drop(\"asset\",axis=1,inplace=True)\n",
    "df = df.merge(df_out,how=\"outer\",on=\"address\")\n",
    "\n",
    "df.to_csv(\"Batch_Address_Screening.csv\",encoding='utf8',index=False)"
   ]
  },
  {
   "cell_type": "code",
   "execution_count": 80,
   "id": "296db04a-bb53-4cac-bf18-0ebaac586c5e",
   "metadata": {},
   "outputs": [
    {
     "data": {
      "text/html": [
       "<div>\n",
       "<style scoped>\n",
       "    .dataframe tbody tr th:only-of-type {\n",
       "        vertical-align: middle;\n",
       "    }\n",
       "\n",
       "    .dataframe tbody tr th {\n",
       "        vertical-align: top;\n",
       "    }\n",
       "\n",
       "    .dataframe thead th {\n",
       "        text-align: right;\n",
       "    }\n",
       "</style>\n",
       "<table border=\"1\" class=\"dataframe\">\n",
       "  <thead>\n",
       "    <tr style=\"text-align: right;\">\n",
       "      <th></th>\n",
       "      <th>user_id</th>\n",
       "      <th>address</th>\n",
       "      <th>asset</th>\n",
       "      <th>rating</th>\n",
       "      <th>customAddress</th>\n",
       "      <th>chainalysisIdentification</th>\n",
       "      <th>cluster.name</th>\n",
       "      <th>cluster.category</th>\n",
       "      <th>cluster</th>\n",
       "    </tr>\n",
       "  </thead>\n",
       "  <tbody>\n",
       "    <tr>\n",
       "      <th>0</th>\n",
       "      <td>1</td>\n",
       "      <td>0x6acdfba02d390b97ac2b2d42a63e85293bcc160e</td>\n",
       "      <td>ETH</td>\n",
       "      <td>highRisk</td>\n",
       "      <td>None</td>\n",
       "      <td>None</td>\n",
       "      <td>OFAC SDN Chatex.com 2021-11-08</td>\n",
       "      <td>sanctions</td>\n",
       "      <td>NaN</td>\n",
       "    </tr>\n",
       "    <tr>\n",
       "      <th>1</th>\n",
       "      <td>2</td>\n",
       "      <td>0x7F19720A857F834887FC9A7bC0a0fBe7Fc7f8102</td>\n",
       "      <td>ETH</td>\n",
       "      <td>highRisk</td>\n",
       "      <td>None</td>\n",
       "      <td>None</td>\n",
       "      <td>OFAC SDN Secondeye Solution 2021-04-15</td>\n",
       "      <td>sanctions</td>\n",
       "      <td>NaN</td>\n",
       "    </tr>\n",
       "    <tr>\n",
       "      <th>2</th>\n",
       "      <td>3</td>\n",
       "      <td>0x92193107FB10B3B372AB21cC90b5a4DBd67861d9</td>\n",
       "      <td>ETH</td>\n",
       "      <td>lowRisk</td>\n",
       "      <td>None</td>\n",
       "      <td>None</td>\n",
       "      <td>Contact Chainalysis 0x9219</td>\n",
       "      <td>stolen funds</td>\n",
       "      <td>NaN</td>\n",
       "    </tr>\n",
       "    <tr>\n",
       "      <th>3</th>\n",
       "      <td>4</td>\n",
       "      <td>0xe1e8C9fa8F0cB41CcF9b92061b696EC247Fcc449</td>\n",
       "      <td>ETH</td>\n",
       "      <td>highRisk</td>\n",
       "      <td>None</td>\n",
       "      <td>None</td>\n",
       "      <td>MorphToken.com</td>\n",
       "      <td>high risk exchange</td>\n",
       "      <td>NaN</td>\n",
       "    </tr>\n",
       "    <tr>\n",
       "      <th>4</th>\n",
       "      <td>5</td>\n",
       "      <td>0xC5Ca16CD564eA101bBF2Dba1346499289F142B07</td>\n",
       "      <td>ETH</td>\n",
       "      <td>unknown</td>\n",
       "      <td>None</td>\n",
       "      <td>None</td>\n",
       "      <td>NaN</td>\n",
       "      <td>NaN</td>\n",
       "      <td>NaN</td>\n",
       "    </tr>\n",
       "  </tbody>\n",
       "</table>\n",
       "</div>"
      ],
      "text/plain": [
       "   user_id                                     address asset    rating  \\\n",
       "0        1  0x6acdfba02d390b97ac2b2d42a63e85293bcc160e   ETH  highRisk   \n",
       "1        2  0x7F19720A857F834887FC9A7bC0a0fBe7Fc7f8102   ETH  highRisk   \n",
       "2        3  0x92193107FB10B3B372AB21cC90b5a4DBd67861d9   ETH   lowRisk   \n",
       "3        4  0xe1e8C9fa8F0cB41CcF9b92061b696EC247Fcc449   ETH  highRisk   \n",
       "4        5  0xC5Ca16CD564eA101bBF2Dba1346499289F142B07   ETH   unknown   \n",
       "\n",
       "  customAddress chainalysisIdentification  \\\n",
       "0          None                      None   \n",
       "1          None                      None   \n",
       "2          None                      None   \n",
       "3          None                      None   \n",
       "4          None                      None   \n",
       "\n",
       "                             cluster.name    cluster.category  cluster  \n",
       "0          OFAC SDN Chatex.com 2021-11-08           sanctions      NaN  \n",
       "1  OFAC SDN Secondeye Solution 2021-04-15           sanctions      NaN  \n",
       "2              Contact Chainalysis 0x9219        stolen funds      NaN  \n",
       "3                          MorphToken.com  high risk exchange      NaN  \n",
       "4                                     NaN                 NaN      NaN  "
      ]
     },
     "execution_count": 80,
     "metadata": {},
     "output_type": "execute_result"
    }
   ],
   "source": [
    "df"
   ]
  },
  {
   "cell_type": "code",
   "execution_count": 83,
   "id": "1a724ab0-768a-4dbd-8885-a97e6ccedf9f",
   "metadata": {},
   "outputs": [],
   "source": [
    "df.to_csv(\"Batch_Address_Screening.csv\",encoding='utf8',index=False)"
   ]
  },
  {
   "cell_type": "code",
   "execution_count": null,
   "id": "34a42993-2833-4bbb-8ef3-3df86530c8e2",
   "metadata": {},
   "outputs": [],
   "source": []
  }
 ],
 "metadata": {
  "kernelspec": {
   "display_name": "Python 3 (ipykernel)",
   "language": "python",
   "name": "python3"
  },
  "language_info": {
   "codemirror_mode": {
    "name": "ipython",
    "version": 3
   },
   "file_extension": ".py",
   "mimetype": "text/x-python",
   "name": "python",
   "nbconvert_exporter": "python",
   "pygments_lexer": "ipython3",
   "version": "3.9.10"
  }
 },
 "nbformat": 4,
 "nbformat_minor": 5
}
