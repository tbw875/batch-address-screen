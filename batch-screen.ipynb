{
 "cells": [
  {
   "cell_type": "code",
   "execution_count": 5,
   "id": "0bdf09a4-a059-4fc7-8477-0bdb2a8005aa",
   "metadata": {},
   "outputs": [],
   "source": [
    "import pandas as pd\n",
    "import numpy as np\n",
    "import getpass\n",
    "import json\n",
    "import requests"
   ]
  },
  {
   "cell_type": "markdown",
   "id": "fb15ad90-24c8-42ba-89c1-30aea108d3d5",
   "metadata": {},
   "source": [
    "1. Set up address screen call with `requests`\n",
    "2. Parse out response of API response to csv columns\n",
    "3. Load csv with addresses in first column\n",
    "4. For each row in CSV, run Address Screening API\n",
    "5. export results to CSV"
   ]
  },
  {
   "cell_type": "markdown",
   "id": "c6f970fe-1c4a-4ea1-9720-65c48175ba27",
   "metadata": {},
   "source": [
    "`https://api.chainalysis.com/api/kyt/v1/users/{{userId}}/withdrawaladdresses`"
   ]
  },
  {
   "cell_type": "code",
   "execution_count": 6,
   "id": "322ddc66-60dd-446e-a1ff-b001884e97a4",
   "metadata": {},
   "outputs": [
    {
     "name": "stdin",
     "output_type": "stream",
     "text": [
      "Enter your API Key: ································································\n"
     ]
    }
   ],
   "source": [
    "##### ENTER YOUR API KEY\n",
    "api_key = getpass.getpass(\"Enter your API Key:\")"
   ]
  },
  {
   "cell_type": "code",
   "execution_count": 12,
   "id": "5bc1f22c-3d5c-4566-9551-1c86242aefb7",
   "metadata": {},
   "outputs": [],
   "source": [
    "payload = {}"
   ]
  },
  {
   "cell_type": "code",
   "execution_count": 22,
   "id": "c5ab363c-5b13-44d8-aa7e-1070580e2789",
   "metadata": {},
   "outputs": [],
   "source": [
    "payload = {\n",
    "    \"network\":\"Ethereum\"\n",
    "    ,\"asset\":\"ETH\"\n",
    "    ,\"address\":\"0x92193107FB10B3B372AB21cC90b5a4DBd67861d9\"}"
   ]
  },
  {
   "cell_type": "code",
   "execution_count": 23,
   "id": "faef6c1c-2677-4c2a-aa65-f0bf2c838e79",
   "metadata": {},
   "outputs": [],
   "source": [
    "headers = {\n",
    "    'Token' : api_key\n",
    "    ,'Content-Type':'application/json'\n",
    "}"
   ]
  },
  {
   "cell_type": "code",
   "execution_count": 29,
   "id": "4b1d76ef-3e14-4fb6-a99f-311d397608cf",
   "metadata": {
    "tags": []
   },
   "outputs": [],
   "source": [
    "r = requests.post(\n",
    "    url='https://api.chainalysis.com/api/kyt/v1/users/batch_user_id/withdrawaladdresses'\n",
    "    ,data=payload\n",
    "    ,headers=headers)"
   ]
  },
  {
   "cell_type": "code",
   "execution_count": 30,
   "id": "d94a7d7c-693e-425f-879f-d79153780c48",
   "metadata": {},
   "outputs": [
    {
     "data": {
      "text/plain": [
       "<Response [400]>"
      ]
     },
     "execution_count": 30,
     "metadata": {},
     "output_type": "execute_result"
    }
   ],
   "source": [
    "r"
   ]
  },
  {
   "cell_type": "code",
   "execution_count": 24,
   "id": "d9fdd614-659c-44c7-9892-c747f753c0ac",
   "metadata": {},
   "outputs": [],
   "source": [
    "url = 'https://api.chainalysis.com/api/kyt/v1/users/batch_user_id/withdrawaladdresses'"
   ]
  },
  {
   "cell_type": "code",
   "execution_count": 25,
   "id": "75c978c0-816d-49dd-a547-c62212a4d71a",
   "metadata": {},
   "outputs": [],
   "source": [
    "response = requests.request(\"GET\", url, headers=headers, data=payload)"
   ]
  },
  {
   "cell_type": "code",
   "execution_count": 26,
   "id": "2187d2ad-6224-4280-80ae-040435a941b5",
   "metadata": {},
   "outputs": [
    {
     "data": {
      "text/plain": [
       "{'limit': 100, 'offset': 0, 'total': 0, 'data': []}"
      ]
     },
     "execution_count": 26,
     "metadata": {},
     "output_type": "execute_result"
    }
   ],
   "source": [
    "response.json()"
   ]
  },
  {
   "cell_type": "markdown",
   "id": "4ffd4b0c-4608-4964-962d-6413045719cf",
   "metadata": {},
   "source": [
    "# Postman"
   ]
  },
  {
   "cell_type": "code",
   "execution_count": 31,
   "id": "a70d3dc3-0be4-4f11-a13a-d6a1a518ac45",
   "metadata": {},
   "outputs": [
    {
     "name": "stdout",
     "output_type": "stream",
     "text": [
      "\n"
     ]
    }
   ],
   "source": [
    "import requests\n",
    "import json\n",
    "\n",
    "url = \"https://api.chainalysis.com/api/kyt/v1/users/User 875/withdrawaladdresses\"\n",
    "\n",
    "payload = {\n",
    "    \"network\":\"Ethereum\"\n",
    "    ,\"asset\":\"ETH\"\n",
    "    ,\"address\":\"0x92193107FB10B3B372AB21cC90b5a4DBd67861d9\"}\n",
    "\n",
    "headers = {\n",
    "  'token': '06094f6ef2909569d7533ecd8706cad35703709de49713299d6e74edb937b878',\n",
    "  'Content-Type': 'application/json'\n",
    "}\n",
    "\n",
    "response = requests.request(\"POST\", url, headers=headers, data=payload)\n",
    "\n",
    "print(response.text)\n"
   ]
  },
  {
   "cell_type": "code",
   "execution_count": 33,
   "id": "52f8bdc2-d844-46d3-8eea-0e95a491501e",
   "metadata": {},
   "outputs": [
    {
     "data": {
      "text/plain": [
       "<Response [400]>"
      ]
     },
     "execution_count": 33,
     "metadata": {},
     "output_type": "execute_result"
    }
   ],
   "source": [
    "response"
   ]
  },
  {
   "cell_type": "markdown",
   "id": "4cf5de83-6d72-493b-bd3e-18e1cf41bf3a",
   "metadata": {},
   "source": [
    "# Anand's"
   ]
  },
  {
   "cell_type": "code",
   "execution_count": 1,
   "id": "56cc82d0-8ddc-47b8-b1b8-ae76bd4c3630",
   "metadata": {},
   "outputs": [
    {
     "name": "stdout",
     "output_type": "stream",
     "text": [
      "{'limit': 100, 'offset': 0, 'total': 62319, 'data': [{'userId': '00001bd2-cdb1-4707-b125-97dfdc46d3f4', 'score': 'green', 'lastActivity': '2013-09-19T11:46:31Z', 'scoreUpdatedDate': '2022-01-26T13:33:58.964220Z', 'riskScore': 'LOW'}, {'userId': '0001', 'score': None, 'lastActivity': None, 'scoreUpdatedDate': None, 'riskScore': None}, {'userId': '0003', 'score': None, 'lastActivity': None, 'scoreUpdatedDate': None, 'riskScore': None}, {'userId': '000fa2744d2fe03b9c3f7899b069eb2202cb21718bfb8bff64c2a2e1c283bd6c', 'score': 'green', 'lastActivity': '2018-10-23T14:44:11Z', 'scoreUpdatedDate': '2021-09-16T02:30:01.254526Z', 'riskScore': 'LOW'}, {'userId': '002d41d6-8eb1-4448-8e11-98f98d2ce796', 'score': 'green', 'lastActivity': '2021-04-12T18:44:16Z', 'scoreUpdatedDate': '2021-09-14T17:09:05.073296Z', 'riskScore': 'LOW'}, {'userId': '0043c2dd-ff86-4f0c-ad74-4b38483a7406', 'score': 'red', 'lastActivity': '2021-04-24T06:33:04Z', 'scoreUpdatedDate': '2022-01-23T07:27:39.490494Z', 'riskScore': 'SEVERE'}, {'userId': '004c2dee-3519-4484-9deb-1663321e71d2', 'score': 'red', 'lastActivity': '2021-04-16T03:42:18Z', 'scoreUpdatedDate': '2021-10-09T16:37:55.378561Z', 'riskScore': 'HIGH'}, {'userId': '005', 'score': 'green', 'lastActivity': '2017-12-06T10:40:36Z', 'scoreUpdatedDate': '2021-09-14T17:57:20.341241Z', 'riskScore': 'LOW'}, {'userId': '005a79a99a5cf3787c111dffc1590eeda4655f460c2083fe736637aebf4d8712', 'score': 'green', 'lastActivity': '2018-10-22T19:46:31Z', 'scoreUpdatedDate': '2022-01-26T22:42:19.900936Z', 'riskScore': 'LOW'}, {'userId': '00795a5e-426e-495d-b7c3-53bc59b1318d', 'score': 'amber', 'lastActivity': '2021-04-22T21:40:42Z', 'scoreUpdatedDate': '2022-01-23T07:27:31.633809Z', 'riskScore': 'MEDIUM'}, {'userId': '00d94238-7319-42ee-acaf-c8ac19b8346c', 'score': 'green', 'lastActivity': '2021-04-23T13:18:24Z', 'scoreUpdatedDate': '2021-09-14T17:09:07.394599Z', 'riskScore': 'LOW'}, {'userId': '01356d76-c8e4-496a-950a-2be67cf444aa', 'score': 'green', 'lastActivity': '2021-04-12T21:23:09Z', 'scoreUpdatedDate': '2021-09-14T17:09:07.505752Z', 'riskScore': 'LOW'}, {'userId': '01515ec1-228a-4442-8995-d3ccc6667484', 'score': 'green', 'lastActivity': '2021-04-24T07:57:53Z', 'scoreUpdatedDate': '2022-01-23T07:27:36.079160Z', 'riskScore': 'LOW'}, {'userId': '0189d3033b7e70d3d1e83a212c174053e16975c12370369f5e8511f6afce0fe2', 'score': 'green', 'lastActivity': '2018-09-19T23:06:34Z', 'scoreUpdatedDate': '2021-09-16T02:30:06.780011Z', 'riskScore': 'LOW'}, {'userId': '01c951f9-07e0-4780-be6c-aa3ad0fc2228', 'score': 'green', 'lastActivity': '2018-12-13T12:07:52Z', 'scoreUpdatedDate': '2022-01-21T07:53:33.213871Z', 'riskScore': 'LOW'}, {'userId': '01d8155e-e00f-4208-b126-9741f5c230e8', 'score': 'green', 'lastActivity': '2021-04-15T18:58:58Z', 'scoreUpdatedDate': '2021-04-29T21:13:27.211196Z', 'riskScore': 'LOW'}, {'userId': '022c6860-db6b-45f9-a4a1-8e8b15c6a706', 'score': 'red', 'lastActivity': '2021-04-25T12:33:56Z', 'scoreUpdatedDate': '2022-01-23T07:27:42.561582Z', 'riskScore': 'HIGH'}, {'userId': '023198e5-83ee-4c89-b02f-217c09cb8e8b', 'score': 'green', 'lastActivity': '2021-04-22T22:16:54Z', 'scoreUpdatedDate': '2022-01-23T07:27:36.079160Z', 'riskScore': 'LOW'}, {'userId': '0234b221-f196-4317-a34d-553e80ad7d61', 'score': 'green', 'lastActivity': '2021-04-12T12:33:34Z', 'scoreUpdatedDate': '2021-09-14T17:30:13.896626Z', 'riskScore': 'LOW'}, {'userId': '0241e912-be50-42f5-aad8-5fbc931e0249', 'score': 'red', 'lastActivity': '2021-04-25T23:03:28Z', 'scoreUpdatedDate': '2022-01-23T07:27:41.635759Z', 'riskScore': 'SEVERE'}, {'userId': '024e97f0-bbd0-47b4-a8ec-71e5e8', 'score': 'green', 'lastActivity': '2020-07-01T20:39:25Z', 'scoreUpdatedDate': '2021-09-14T16:57:45.015392Z', 'riskScore': 'LOW'}, {'userId': '02d3a38e-3bd6-4628-a775-78f60d15f244', 'score': 'green', 'lastActivity': '2021-04-24T05:45:53Z', 'scoreUpdatedDate': '2022-01-23T07:27:39.490494Z', 'riskScore': 'LOW'}, {'userId': '02ea4c29-bb38-45c7-8523-424d90e4c0ac', 'score': 'amber', 'lastActivity': '2021-04-15T08:09:15Z', 'scoreUpdatedDate': '2022-01-23T07:27:39.490494Z', 'riskScore': 'MEDIUM'}, {'userId': '030a1837-8567-43dd-bad0-3150317f7fdc', 'score': 'green', 'lastActivity': '2019-05-24T03:04:16Z', 'scoreUpdatedDate': '2022-01-21T07:45:48.833956Z', 'riskScore': 'LOW'}, {'userId': '03291977', 'score': None, 'lastActivity': None, 'scoreUpdatedDate': None, 'riskScore': None}, {'userId': '033d0bed6957b4b5f81a10470ff1993a417286ca8a9589cd47fd26514726aa02', 'score': 'green', 'lastActivity': '2018-10-24T12:54:12Z', 'scoreUpdatedDate': '2021-09-16T02:30:01.254526Z', 'riskScore': 'LOW'}, {'userId': '036430b1-fd1e-4dd6-9c82-0f633342a088', 'score': 'amber', 'lastActivity': '2021-04-15T21:27:50Z', 'scoreUpdatedDate': '2021-09-14T17:09:06.748579Z', 'riskScore': 'MEDIUM'}, {'userId': '036963de9831903b5e7c67dc877b1164018e1f8b46dfeafd6da01947dfe25839', 'score': 'green', 'lastActivity': '2018-12-19T14:54:50Z', 'scoreUpdatedDate': '2021-09-16T02:30:01.018522Z', 'riskScore': 'LOW'}, {'userId': '037242d5c0789396e1c4f12097ef01f6f4896a888183d5c738c4538a23bf7484', 'score': 'green', 'lastActivity': '2018-07-27T14:26:12Z', 'scoreUpdatedDate': '2021-09-16T02:30:13.945154Z', 'riskScore': 'LOW'}, {'userId': '03bd7e78-fac6-43dd-aac0-2e245a2d7e96', 'score': 'green', 'lastActivity': '2021-04-24T10:44:08Z', 'scoreUpdatedDate': '2021-09-14T17:09:05.073296Z', 'riskScore': 'LOW'}, {'userId': '0411bdc4-57b1-4b61-a369-1095c7a380ba', 'score': 'green', 'lastActivity': '2021-04-23T21:46:27Z', 'scoreUpdatedDate': '2022-01-23T07:27:27.840932Z', 'riskScore': 'LOW'}, {'userId': '0423bb7d-820f-47d1-ac3f-0dc409bb417c', 'score': 'green', 'lastActivity': '2021-04-23T16:23:15Z', 'scoreUpdatedDate': '2021-09-14T17:30:13.896626Z', 'riskScore': 'LOW'}, {'userId': '0428763e-9c2e-4ee5-ab81-c19e3abb4a8e', 'score': 'amber', 'lastActivity': '2021-04-13T14:18:25Z', 'scoreUpdatedDate': '2022-01-23T07:27:28.409908Z', 'riskScore': 'MEDIUM'}, {'userId': '04b5ecd5-e444-45aa-afb8-5da5a45f44c7', 'score': 'green', 'lastActivity': '2021-04-12T22:16:50Z', 'scoreUpdatedDate': '2021-09-14T17:09:08.302221Z', 'riskScore': 'LOW'}, {'userId': '053c1e6ffd23b55d295717b2d0d52a17872b5c2eca2394e9a856b03967f964fa', 'score': 'green', 'lastActivity': '2019-02-12T17:41:18Z', 'scoreUpdatedDate': '2022-01-26T22:42:18.544826Z', 'riskScore': 'LOW'}, {'userId': '054dd657967062022ab2429d04e3bb8717e337fbea7b2a155f589ebd7e856bc2', 'score': 'green', 'lastActivity': '2018-08-31T22:55:00Z', 'scoreUpdatedDate': '2021-09-16T02:30:11.020392Z', 'riskScore': 'LOW'}, {'userId': '055616d9-f6c3-4370-bcfc-e618b6a2df51', 'score': 'green', 'lastActivity': '2021-04-24T11:34:03Z', 'scoreUpdatedDate': '2022-01-23T07:27:32.561359Z', 'riskScore': 'LOW'}, {'userId': '055f25b2-8bb5-4942-98d4-7dee2fe54cfc', 'score': 'amber', 'lastActivity': '2021-04-13T15:54:55Z', 'scoreUpdatedDate': '2022-01-23T07:27:32.561359Z', 'riskScore': 'MEDIUM'}, {'userId': '056ae009b5b5e263e957be76e2e5023dd73f9afd53e9116834b326a6ae22667c', 'score': 'green', 'lastActivity': '2018-10-01T14:44:47Z', 'scoreUpdatedDate': '2021-09-16T02:30:01.018522Z', 'riskScore': 'LOW'}, {'userId': '0578cc1864c58b6cac1d38e1fc666001c2246962f0e690ab1272b71ea94bb7bc', 'score': 'green', 'lastActivity': '2019-01-21T16:30:16Z', 'scoreUpdatedDate': '2021-09-16T02:30:07.847925Z', 'riskScore': 'LOW'}, {'userId': '05a3db79-ecec-4938-ad4b-15ab1cacf968', 'score': 'amber', 'lastActivity': '2021-04-14T11:46:49Z', 'scoreUpdatedDate': '2022-01-23T07:27:31.633809Z', 'riskScore': 'MEDIUM'}, {'userId': '05af57e05703cc8417785f4c70edde782b67738ba79862030537ec37eede5105', 'score': 'green', 'lastActivity': '2018-08-21T14:59:53Z', 'scoreUpdatedDate': '2021-09-16T02:30:05.808488Z', 'riskScore': 'LOW'}, {'userId': '05b7e97b-6b21-4286-ae31-57d5560d8e62', 'score': 'green', 'lastActivity': '2021-04-18T20:43:50Z', 'scoreUpdatedDate': '2022-01-23T07:27:31.633809Z', 'riskScore': 'LOW'}, {'userId': '05f24dc0-a66b-4e62-9af7-ecded945ae7d', 'score': 'red', 'lastActivity': '2021-04-22T19:21:56Z', 'scoreUpdatedDate': '2022-01-23T07:27:49.691061Z', 'riskScore': 'SEVERE'}, {'userId': '062e4a2624184523e41929ef2dc2543e9a66d945c83a52278cecf0abbedc9f2f', 'score': 'green', 'lastActivity': '2018-11-30T11:52:53Z', 'scoreUpdatedDate': '2021-09-16T02:30:07.847925Z', 'riskScore': 'LOW'}, {'userId': '06310918-8831-46f5-ba3e-9209ff24e7a3', 'score': 'amber', 'lastActivity': '2021-04-23T03:38:50Z', 'scoreUpdatedDate': '2022-01-23T07:27:33.550580Z', 'riskScore': 'MEDIUM'}, {'userId': '063c423cc324dfc9ddfb29b7bf62860bb1798bb18b018aa895daf6637ff8c472', 'score': 'green', 'lastActivity': '2018-07-28T22:29:44Z', 'scoreUpdatedDate': '2021-09-16T02:30:05.245527Z', 'riskScore': 'LOW'}, {'userId': '065a68a9-a486-4c1b-bbd5-c3ba532cb7e1', 'score': 'amber', 'lastActivity': '2021-04-22T21:22:10Z', 'scoreUpdatedDate': '2022-01-23T07:27:28.409908Z', 'riskScore': 'MEDIUM'}, {'userId': '06701568-1ae8-49cc-be09-79b01ef4bdbe', 'score': 'green', 'lastActivity': '2021-04-25T21:25:26Z', 'scoreUpdatedDate': '2022-01-23T07:27:27.840932Z', 'riskScore': 'LOW'}, {'userId': '0674d1e2-c66c-4688-9712-cd15ea0385a9', 'score': 'green', 'lastActivity': '2021-04-25T14:03:36Z', 'scoreUpdatedDate': '2022-01-23T07:27:33.550580Z', 'riskScore': 'LOW'}, {'userId': '067bc4d3-31fe-4f20-9869-34d216cde1af', 'score': 'red', 'lastActivity': '2021-04-22T14:59:36Z', 'scoreUpdatedDate': '2022-01-23T07:27:33.550580Z', 'riskScore': 'SEVERE'}, {'userId': '06adf588-4212-4287-9742-c37b47fab38f', 'score': 'green', 'lastActivity': '2021-04-24T06:43:24Z', 'scoreUpdatedDate': '2021-09-14T17:09:00.014402Z', 'riskScore': 'LOW'}, {'userId': '07007a23-594d-45b4-a292-8c7f9bdc175c', 'score': 'green', 'lastActivity': '2018-12-17T02:11:02Z', 'scoreUpdatedDate': '2022-01-21T07:53:33.462302Z', 'riskScore': 'LOW'}, {'userId': '073252a8-1a79-4522-a778-8ef9c71a3145', 'score': 'amber', 'lastActivity': '2021-04-22T21:36:54Z', 'scoreUpdatedDate': '2022-01-23T07:27:39.490494Z', 'riskScore': 'MEDIUM'}, {'userId': '07cc0b69-cb9d-4ccf-93c7-f0e673c0d3c0', 'score': 'green', 'lastActivity': '2019-01-04T10:59:13Z', 'scoreUpdatedDate': '2022-01-21T07:45:49.486331Z', 'riskScore': 'LOW'}, {'userId': '07ce48ae-6cbb-4d4a-9670-3e3a4cb9c531', 'score': 'green', 'lastActivity': '2021-04-16T21:37:03Z', 'scoreUpdatedDate': '2021-09-14T17:09:06.748579Z', 'riskScore': 'LOW'}, {'userId': '07f6e360-c714-43a1-8efc-83f77fd41960', 'score': 'red', 'lastActivity': '2021-04-13T19:42:36Z', 'scoreUpdatedDate': '2022-01-23T07:27:39.490494Z', 'riskScore': 'HIGH'}, {'userId': '0848114b-e6d0-4ab8-8deb-d0bde47d0fed', 'score': 'amber', 'lastActivity': '2021-04-13T19:06:15Z', 'scoreUpdatedDate': '2022-01-23T07:27:28.409908Z', 'riskScore': 'MEDIUM'}, {'userId': '085ee38e-58a3-44fb-ac28-2e8814c90ac4', 'score': 'amber', 'lastActivity': '2021-04-23T12:44:19Z', 'scoreUpdatedDate': '2022-01-23T07:27:36.079160Z', 'riskScore': 'MEDIUM'}, {'userId': '088576b7-1285-4ecf-bad2-314d4887889b', 'score': 'green', 'lastActivity': '2021-04-22T16:59:38Z', 'scoreUpdatedDate': '2021-09-14T17:30:24.106158Z', 'riskScore': 'LOW'}, {'userId': '088735a5-c36d-4843-8f5f-244e2f8f843e', 'score': 'green', 'lastActivity': '2021-04-24T16:42:27Z', 'scoreUpdatedDate': '2022-01-23T07:27:39.490494Z', 'riskScore': 'LOW'}, {'userId': '08a24f36-bfa5-40f2-bda6-81cf8ccd9066', 'score': 'red', 'lastActivity': '2021-04-23T16:43:58Z', 'scoreUpdatedDate': '2022-01-23T07:27:43.793300Z', 'riskScore': 'SEVERE'}, {'userId': '08b32fc479bf1337159101e62c5d00aa632ff0ab24c033bc05792d12c8a4febc', 'score': 'green', 'lastActivity': '2018-09-05T22:48:04Z', 'scoreUpdatedDate': '2021-09-16T02:30:07.847925Z', 'riskScore': 'LOW'}, {'userId': '08c1c3ddf6c176c37a1b2ea98790511c03668970f7e0faff75d64a65f7818bd4', 'score': 'green', 'lastActivity': '2018-10-22T21:01:33Z', 'scoreUpdatedDate': '2021-09-16T02:30:06.460263Z', 'riskScore': 'LOW'}, {'userId': '08e04ef0-7c22-441d-9969-d4dbec895be7', 'score': 'green', 'lastActivity': '2019-05-23T13:50:37Z', 'scoreUpdatedDate': '2022-01-21T07:45:39.485710Z', 'riskScore': 'LOW'}, {'userId': '0919ab6054ffd4680972279c862bbcc75fdfede1640372bee88a2d08439eb9b9', 'score': 'green', 'lastActivity': '2018-12-08T00:49:22Z', 'scoreUpdatedDate': '2021-09-16T02:30:01.018522Z', 'riskScore': 'LOW'}, {'userId': '0938d1d5-87a2-40d5-83d0-c161409a4be4', 'score': 'green', 'lastActivity': '2021-04-12T22:55:41Z', 'scoreUpdatedDate': '2021-09-14T17:09:05.751257Z', 'riskScore': 'LOW'}, {'userId': '098c33fb-c7d7-48f8-b66a-38028bd4ea71', 'score': 'red', 'lastActivity': '2021-04-25T22:55:28Z', 'scoreUpdatedDate': '2022-01-23T07:27:28.409908Z', 'riskScore': 'HIGH'}, {'userId': '0995e1f68d246f71c125a2d6593e46eb458dac152d8269d77f3d30abdb2b4b1c', 'score': 'red', 'lastActivity': '2019-01-03T17:16:43Z', 'scoreUpdatedDate': '2021-09-16T02:30:05.245527Z', 'riskScore': 'HIGH'}, {'userId': '09a7c83c-5321-4ce9-aa3c-3f14082796fc', 'score': 'green', 'lastActivity': '2021-04-21T03:19:30Z', 'scoreUpdatedDate': '2022-01-23T07:27:25.180235Z', 'riskScore': 'LOW'}, {'userId': '09cbf35c-52ce-4642-b84b-b2cf7412e9f4', 'score': 'green', 'lastActivity': '2021-04-23T16:23:15Z', 'scoreUpdatedDate': '2021-09-14T17:09:05.751257Z', 'riskScore': 'LOW'}, {'userId': '09e57119-0b7d-4ae7-9726-f65155d3e95e', 'score': 'green', 'lastActivity': '2021-04-22T06:30:55Z', 'scoreUpdatedDate': '2021-09-14T17:30:13.896626Z', 'riskScore': 'LOW'}, {'userId': '09f590b8-07fc-44b4-8000-f8a26535fa2e', 'score': 'green', 'lastActivity': '2021-04-24T20:19:07Z', 'scoreUpdatedDate': '2021-09-14T17:09:06.215734Z', 'riskScore': 'LOW'}, {'userId': '0a00c82d-ba75-4e46-b07e-058ef216a0e5', 'score': 'green', 'lastActivity': '2021-04-14T04:23:30Z', 'scoreUpdatedDate': '2022-01-23T07:27:21.633077Z', 'riskScore': 'LOW'}, {'userId': '0a10e280223f22420f91f65d44a9516bcab07a4eb87c67478776fc322154ec99', 'score': 'amber', 'lastActivity': '2019-02-12T15:51:26Z', 'scoreUpdatedDate': '2021-09-16T02:30:07.847925Z', 'riskScore': 'MEDIUM'}, {'userId': '0a2c7b9d-b22f-475d-aecc-38dcc617f79f', 'score': 'green', 'lastActivity': '2019-10-14T04:16:48Z', 'scoreUpdatedDate': '2022-01-21T07:53:32.609941Z', 'riskScore': 'LOW'}, {'userId': '0a4785ab9817d673d7c196e33a6fedf78b24b712e7d564fc9949298049fd7c45', 'score': 'green', 'lastActivity': '2018-10-22T12:31:58Z', 'scoreUpdatedDate': '2021-09-16T02:30:11.020392Z', 'riskScore': 'LOW'}, {'userId': '0a67e8d19090dcedcb26c3e3286a8b83a71c313b528f1f440dd3175c1b41ae66', 'score': 'green', 'lastActivity': '2018-10-10T22:52:59Z', 'scoreUpdatedDate': '2021-09-16T02:30:04.813579Z', 'riskScore': 'LOW'}, {'userId': '0abec7ff760b4610b9deb872df818fcc', 'score': 'green', 'lastActivity': '2022-01-19T22:01:42Z', 'scoreUpdatedDate': '2022-03-09T20:22:19.736830Z', 'riskScore': 'LOW'}, {'userId': '0ad22f12-926e-4679-b4f1-7b8e6fcbaf31', 'score': 'green', 'lastActivity': '2021-04-12T15:02:04Z', 'scoreUpdatedDate': '2021-09-14T17:09:06.898430Z', 'riskScore': 'LOW'}, {'userId': '0b046ad4-fd20-4371-9ae2-91f895a74565', 'score': 'red', 'lastActivity': '2021-04-25T01:57:32Z', 'scoreUpdatedDate': '2022-01-23T07:27:49.691061Z', 'riskScore': 'HIGH'}, {'userId': '0b098632-09fe-41e8-b70e-a2bed9de933d', 'score': 'green', 'lastActivity': '2021-04-26T07:34:54Z', 'scoreUpdatedDate': '2021-09-14T17:09:07.394599Z', 'riskScore': 'LOW'}, {'userId': '0b0cfd11-061c-4511-8e99-7d3a5d3aacb0', 'score': 'green', 'lastActivity': '2019-10-13T23:21:34Z', 'scoreUpdatedDate': '2021-09-17T14:05:43.800141Z', 'riskScore': 'LOW'}, {'userId': '0b2a70c6fa46c5b92816958ebbb88e02ba029bb1e2d1b68a5cfcf700d24edee7', 'score': 'amber', 'lastActivity': '2019-02-03T18:38:33Z', 'scoreUpdatedDate': '2021-09-16T02:30:12.089324Z', 'riskScore': 'MEDIUM'}, {'userId': '0b329b69-7f66-4e00-8817-5878813c31cc', 'score': 'green', 'lastActivity': '2021-04-20T02:00:59Z', 'scoreUpdatedDate': '2022-01-23T07:27:28.409908Z', 'riskScore': 'LOW'}, {'userId': '0b4f475f-7c01-4398-92de-5155e7019183', 'score': 'amber', 'lastActivity': '2021-04-14T23:12:13Z', 'scoreUpdatedDate': '2022-01-23T07:27:41.635759Z', 'riskScore': 'MEDIUM'}, {'userId': '0b6ddd26a5fc40f4a7644eaee8ceeceb', 'score': 'green', 'lastActivity': '2022-03-01T18:52:01Z', 'scoreUpdatedDate': '2022-03-09T20:22:41.183434Z', 'riskScore': 'LOW'}, {'userId': '0b8e4033-87af-4c12-803e-ef8be75ac9a8', 'score': 'green', 'lastActivity': '2020-02-14T02:30:15Z', 'scoreUpdatedDate': '2021-09-17T13:54:26.294191Z', 'riskScore': 'LOW'}, {'userId': '0b91062157ef083d7355c01ec5b4e76a6e235566940f4b1cc579886501653e1c', 'score': 'amber', 'lastActivity': '2018-09-19T15:00:18Z', 'scoreUpdatedDate': '2021-09-16T02:30:04.813579Z', 'riskScore': 'MEDIUM'}, {'userId': '0babc0d4831e5386857df65c3a420315505dad0da3cd846a25a508aeddf791ec', 'score': 'red', 'lastActivity': '2018-12-28T20:06:29Z', 'scoreUpdatedDate': '2021-09-16T02:30:01.254526Z', 'riskScore': 'HIGH'}, {'userId': '0be3af088024006b20153ef6acdc2f46fd50973b6058be7d03f5510c8361b0d1', 'score': 'red', 'lastActivity': '2018-12-28T18:22:53Z', 'scoreUpdatedDate': '2021-09-16T02:30:04.813579Z', 'riskScore': 'HIGH'}, {'userId': '0c075f71af4483f3a8b60922546bf4eae1e87b0112e04973109c38efe67d81b5', 'score': 'green', 'lastActivity': '2018-09-01T20:34:55Z', 'scoreUpdatedDate': '2021-09-16T02:30:12.089324Z', 'riskScore': 'LOW'}, {'userId': '0c78afb7-91ba-4c7a-82e5-5db906a14862', 'score': 'green', 'lastActivity': '2019-02-21T10:35:33Z', 'scoreUpdatedDate': '2022-01-21T07:53:33.462302Z', 'riskScore': 'LOW'}, {'userId': '0cd45e81-3bbf-4c69-a1b9-97d82054d29b', 'score': 'green', 'lastActivity': '2019-03-13T05:25:02Z', 'scoreUpdatedDate': '2022-01-21T07:53:32.609941Z', 'riskScore': 'LOW'}, {'userId': '0cf9520c-3e25-41b3-b817-ba09d6a0d428', 'score': 'green', 'lastActivity': '2021-04-23T17:09:32Z', 'scoreUpdatedDate': '2022-01-23T07:27:26.075900Z', 'riskScore': 'LOW'}, {'userId': '0d09b160-b1de-4b99-a7a3-92d6de17d738', 'score': 'green', 'lastActivity': '2021-04-25T02:18:00Z', 'scoreUpdatedDate': '2022-01-23T07:27:39.490494Z', 'riskScore': 'LOW'}, {'userId': '0d1154df-215c-4980-9f8c-26a5c49e2216', 'score': 'green', 'lastActivity': '2021-04-12T19:20:10Z', 'scoreUpdatedDate': '2021-09-14T17:09:10.023315Z', 'riskScore': 'LOW'}, {'userId': '0d3ac968ba1e23087adaabfd4285b5069bedb2c776fe8113cac878e6e873d8ae', 'score': 'green', 'lastActivity': '2019-02-26T02:07:43Z', 'scoreUpdatedDate': '2021-09-16T02:30:12.089324Z', 'riskScore': 'LOW'}, {'userId': '0d42307d-74b8-4743-892b-5425cd6414d6', 'score': 'green', 'lastActivity': '2021-04-22T08:38:54Z', 'scoreUpdatedDate': '2021-09-14T17:09:06.748579Z', 'riskScore': 'LOW'}, {'userId': '0d5dd2fa8849953caa6f81cb938c0c8a7d1491d394d625b25f3dd219cb02142d', 'score': 'green', 'lastActivity': '2018-09-07T19:31:09Z', 'scoreUpdatedDate': '2021-09-16T02:30:12.089324Z', 'riskScore': 'LOW'}]}\n"
     ]
    }
   ],
   "source": [
    "import requests\n",
    "import json\n",
    "\n",
    "url = \"https://api.chainalysis.com/api/kyt/v1/users\"\n",
    "\n",
    "payload = \"\"\n",
    "headers = {\n",
    "  'token': '833beda07b3a458662e1dbeb877fc5d5883b0cb298f249e5b554f32b9264707c',\n",
    "  'Content-Type': 'application/json'\n",
    "}\n",
    "\n",
    "response = requests.request(\"GET\", url, headers=headers, data=payload)\n",
    "print(response.json())"
   ]
  },
  {
   "cell_type": "code",
   "execution_count": null,
   "id": "2bcef246-64fa-4c6d-956c-32e1ffa3eea8",
   "metadata": {},
   "outputs": [],
   "source": []
  }
 ],
 "metadata": {
  "kernelspec": {
   "display_name": "Python 3 (ipykernel)",
   "language": "python",
   "name": "python3"
  },
  "language_info": {
   "codemirror_mode": {
    "name": "ipython",
    "version": 3
   },
   "file_extension": ".py",
   "mimetype": "text/x-python",
   "name": "python",
   "nbconvert_exporter": "python",
   "pygments_lexer": "ipython3",
   "version": "3.9.10"
  }
 },
 "nbformat": 4,
 "nbformat_minor": 5
}
