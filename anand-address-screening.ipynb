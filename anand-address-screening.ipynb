{
 "cells": [
  {
   "cell_type": "code",
   "execution_count": 1,
   "id": "8128f983-a313-476c-9cd3-f93596feee78",
   "metadata": {},
   "outputs": [
    {
     "name": "stdout",
     "output_type": "stream",
     "text": [
      "[{\"asset\":\"ETH\",\"address\":\"0xe1e8C9fa8F0cB41CcF9b92061b696EC247Fcc449\",\"cluster\":{\"name\":\"MorphToken.com\",\"category\":\"high risk exchange\"},\"rating\":\"highRisk\",\"customAddress\":null,\"chainalysisIdentification\":null}]\n"
     ]
    }
   ],
   "source": [
    "import requests\n",
    "import json\n",
    "\n",
    "url = \"https://api.chainalysis.com/api/kyt/v1/users/User 875/withdrawaladdresses\"\n",
    "\n",
    "payload = \"[\\n   {\\n    \\\"asset\\\":\\\"ETH\\\",\\n    \\\"address\\\":\\\"0xe1e8C9fa8F0cB41CcF9b92061b696EC247Fcc449\\\"\\n  }\\n]\\n\\n\\n// 0x6acdfba02d390b97ac2b2d42a63e85293bcc160e - Sanctions\\n// 0x7F19720A857F834887FC9A7bC0a0fBe7Fc7f8102 - Sanctions\\n// 0x92193107FB10B3B372AB21cC90b5a4DBd67861d9 - Stolen Funds\\n// 0xe1e8C9fa8F0cB41CcF9b92061b696EC247Fcc449 - High Risk Exch\\n// 0xC5Ca16CD564eA101bBF2Dba1346499289F142B07 - Clean (me)\"\n",
    "headers = {\n",
    "  'token': '06094f6ef2909569d7533ecd8706cad35703709de49713299d6e74edb937b878',\n",
    "  'Content-Type': 'application/json'\n",
    "}\n",
    "\n",
    "response = requests.request(\"POST\", url, headers=headers, data=payload)\n",
    "\n",
    "print(response.text)\n"
   ]
  },
  {
   "cell_type": "code",
   "execution_count": null,
   "id": "1e309b42-5cd2-4939-8aee-1a20a4367505",
   "metadata": {},
   "outputs": [],
   "source": []
  }
 ],
 "metadata": {
  "kernelspec": {
   "display_name": "Python 3 (ipykernel)",
   "language": "python",
   "name": "python3"
  },
  "language_info": {
   "codemirror_mode": {
    "name": "ipython",
    "version": 3
   },
   "file_extension": ".py",
   "mimetype": "text/x-python",
   "name": "python",
   "nbconvert_exporter": "python",
   "pygments_lexer": "ipython3",
   "version": "3.9.10"
  }
 },
 "nbformat": 4,
 "nbformat_minor": 5
}
